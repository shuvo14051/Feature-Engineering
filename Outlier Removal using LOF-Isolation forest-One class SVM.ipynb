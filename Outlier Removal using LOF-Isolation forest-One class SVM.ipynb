{
 "cells": [
  {
   "cell_type": "code",
   "execution_count": 1,
   "id": "b9644151",
   "metadata": {},
   "outputs": [],
   "source": [
    "import pandas as pd\n",
    "import numpy as np\n",
    "from sklearn.model_selection import train_test_split\n",
    "from sklearn.linear_model import LinearRegression\n",
    "from sklearn.neighbors import LocalOutlierFactor\n",
    "from sklearn.metrics import mean_absolute_error, r2_score\n",
    "from sklearn.preprocessing import MinMaxScaler, StandardScaler\n",
    "import warnings\n",
    "warnings.filterwarnings('ignore')"
   ]
  },
  {
   "cell_type": "code",
   "execution_count": 2,
   "id": "156d94b8",
   "metadata": {},
   "outputs": [
    {
     "data": {
      "text/html": [
       "<div>\n",
       "<style scoped>\n",
       "    .dataframe tbody tr th:only-of-type {\n",
       "        vertical-align: middle;\n",
       "    }\n",
       "\n",
       "    .dataframe tbody tr th {\n",
       "        vertical-align: top;\n",
       "    }\n",
       "\n",
       "    .dataframe thead th {\n",
       "        text-align: right;\n",
       "    }\n",
       "</style>\n",
       "<table border=\"1\" class=\"dataframe\">\n",
       "  <thead>\n",
       "    <tr style=\"text-align: right;\">\n",
       "      <th></th>\n",
       "      <th>C_0</th>\n",
       "      <th>C_1</th>\n",
       "      <th>C_2</th>\n",
       "      <th>C_3</th>\n",
       "      <th>C_4</th>\n",
       "      <th>C_5</th>\n",
       "      <th>C_6</th>\n",
       "      <th>C_7</th>\n",
       "      <th>C_8</th>\n",
       "      <th>C_9</th>\n",
       "      <th>C_10</th>\n",
       "      <th>C_11</th>\n",
       "      <th>C_12</th>\n",
       "      <th>C_13</th>\n",
       "    </tr>\n",
       "  </thead>\n",
       "  <tbody>\n",
       "    <tr>\n",
       "      <th>0</th>\n",
       "      <td>0.00632</td>\n",
       "      <td>18.0</td>\n",
       "      <td>2.31</td>\n",
       "      <td>0</td>\n",
       "      <td>0.538</td>\n",
       "      <td>6.575</td>\n",
       "      <td>65.2</td>\n",
       "      <td>4.0900</td>\n",
       "      <td>1</td>\n",
       "      <td>296.0</td>\n",
       "      <td>15.3</td>\n",
       "      <td>396.90</td>\n",
       "      <td>4.98</td>\n",
       "      <td>24.0</td>\n",
       "    </tr>\n",
       "    <tr>\n",
       "      <th>1</th>\n",
       "      <td>0.02731</td>\n",
       "      <td>0.0</td>\n",
       "      <td>7.07</td>\n",
       "      <td>0</td>\n",
       "      <td>0.469</td>\n",
       "      <td>6.421</td>\n",
       "      <td>78.9</td>\n",
       "      <td>4.9671</td>\n",
       "      <td>2</td>\n",
       "      <td>242.0</td>\n",
       "      <td>17.8</td>\n",
       "      <td>396.90</td>\n",
       "      <td>9.14</td>\n",
       "      <td>21.6</td>\n",
       "    </tr>\n",
       "    <tr>\n",
       "      <th>2</th>\n",
       "      <td>0.02729</td>\n",
       "      <td>0.0</td>\n",
       "      <td>7.07</td>\n",
       "      <td>0</td>\n",
       "      <td>0.469</td>\n",
       "      <td>7.185</td>\n",
       "      <td>61.1</td>\n",
       "      <td>4.9671</td>\n",
       "      <td>2</td>\n",
       "      <td>242.0</td>\n",
       "      <td>17.8</td>\n",
       "      <td>392.83</td>\n",
       "      <td>4.03</td>\n",
       "      <td>34.7</td>\n",
       "    </tr>\n",
       "    <tr>\n",
       "      <th>3</th>\n",
       "      <td>0.03237</td>\n",
       "      <td>0.0</td>\n",
       "      <td>2.18</td>\n",
       "      <td>0</td>\n",
       "      <td>0.458</td>\n",
       "      <td>6.998</td>\n",
       "      <td>45.8</td>\n",
       "      <td>6.0622</td>\n",
       "      <td>3</td>\n",
       "      <td>222.0</td>\n",
       "      <td>18.7</td>\n",
       "      <td>394.63</td>\n",
       "      <td>2.94</td>\n",
       "      <td>33.4</td>\n",
       "    </tr>\n",
       "    <tr>\n",
       "      <th>4</th>\n",
       "      <td>0.06905</td>\n",
       "      <td>0.0</td>\n",
       "      <td>2.18</td>\n",
       "      <td>0</td>\n",
       "      <td>0.458</td>\n",
       "      <td>7.147</td>\n",
       "      <td>54.2</td>\n",
       "      <td>6.0622</td>\n",
       "      <td>3</td>\n",
       "      <td>222.0</td>\n",
       "      <td>18.7</td>\n",
       "      <td>396.90</td>\n",
       "      <td>5.33</td>\n",
       "      <td>36.2</td>\n",
       "    </tr>\n",
       "  </tbody>\n",
       "</table>\n",
       "</div>"
      ],
      "text/plain": [
       "       C_0   C_1   C_2  C_3    C_4    C_5   C_6     C_7  C_8    C_9  C_10  \\\n",
       "0  0.00632  18.0  2.31    0  0.538  6.575  65.2  4.0900    1  296.0  15.3   \n",
       "1  0.02731   0.0  7.07    0  0.469  6.421  78.9  4.9671    2  242.0  17.8   \n",
       "2  0.02729   0.0  7.07    0  0.469  7.185  61.1  4.9671    2  242.0  17.8   \n",
       "3  0.03237   0.0  2.18    0  0.458  6.998  45.8  6.0622    3  222.0  18.7   \n",
       "4  0.06905   0.0  2.18    0  0.458  7.147  54.2  6.0622    3  222.0  18.7   \n",
       "\n",
       "     C_11  C_12  C_13  \n",
       "0  396.90  4.98  24.0  \n",
       "1  396.90  9.14  21.6  \n",
       "2  392.83  4.03  34.7  \n",
       "3  394.63  2.94  33.4  \n",
       "4  396.90  5.33  36.2  "
      ]
     },
     "execution_count": 2,
     "metadata": {},
     "output_type": "execute_result"
    }
   ],
   "source": [
    "url = 'https://raw.githubusercontent.com/jbrownlee/Datasets/master/housing.csv'\n",
    "df = pd.read_csv(url, header=None)\n",
    "df = df.add_prefix(\"C_\")\n",
    "df.head()"
   ]
  },
  {
   "cell_type": "code",
   "execution_count": 3,
   "id": "f51a58e9",
   "metadata": {},
   "outputs": [
    {
     "data": {
      "text/plain": [
       "0"
      ]
     },
     "execution_count": 3,
     "metadata": {},
     "output_type": "execute_result"
    }
   ],
   "source": [
    "sum(df.isnull().sum())"
   ]
  },
  {
   "cell_type": "markdown",
   "id": "b813624c",
   "metadata": {},
   "source": [
    "# Train test split and scaling"
   ]
  },
  {
   "cell_type": "code",
   "execution_count": 4,
   "id": "76f41cc0",
   "metadata": {},
   "outputs": [],
   "source": [
    "X = df.drop(\"C_13\", axis=1)\n",
    "y =df[\"C_13\"]\n",
    "X_train, X_test, y_train, y_test = train_test_split(X, y, test_size=0.33, random_state=1)\n",
    "\n",
    "scaler = StandardScaler()\n",
    "X_train_scaled = scaler.fit_transform(X_train)\n",
    "X_test_scaled = scaler.transform(X_test)"
   ]
  },
  {
   "cell_type": "markdown",
   "id": "f940f939",
   "metadata": {},
   "source": [
    "# Before outlier removal"
   ]
  },
  {
   "cell_type": "code",
   "execution_count": 5,
   "id": "00c86991",
   "metadata": {},
   "outputs": [
    {
     "name": "stdout",
     "output_type": "stream",
     "text": [
      "MAE: 3.417\n",
      "R2 Score: 0.765\n"
     ]
    }
   ],
   "source": [
    "lr = LinearRegression()\n",
    "lr.fit(X_train_scaled, y_train)\n",
    "y_pred = lr.predict(X_test_scaled)\n",
    "mae = mean_absolute_error(y_test, y_pred)\n",
    "print('MAE: %.3f' % mae)\n",
    "r2 = r2_score(y_test, y_pred)\n",
    "print('R2 Score: %.3f' % r2)"
   ]
  },
  {
   "cell_type": "markdown",
   "id": "e6ccc55e",
   "metadata": {},
   "source": [
    "# After LOF "
   ]
  },
  {
   "cell_type": "code",
   "execution_count": 6,
   "id": "680fdaf0",
   "metadata": {},
   "outputs": [
    {
     "name": "stdout",
     "output_type": "stream",
     "text": [
      "(339, 13) (339,)\n",
      "(319, 13) (319,)\n",
      "MAE: 3.244\n",
      "R2 Score: 0.766\n"
     ]
    }
   ],
   "source": [
    "lof = LocalOutlierFactor()\n",
    "yhat = lof.fit_predict(X_train_scaled)\n",
    "mask = (yhat != -1)\n",
    "print(X_train.shape, y_train.shape)\n",
    "X_train_reduced, y_train_redcued = X_train_scaled[mask, :], y_train[mask]\n",
    "print(X_train_reduced.shape, y_train_redcued.shape)\n",
    "\n",
    "model = LinearRegression()\n",
    "model.fit(X_train_reduced, y_train_redcued)\n",
    "\n",
    "yhat = model.predict(X_test_scaled)\n",
    "mae = mean_absolute_error(y_test, yhat)\n",
    "print('MAE: %.3f' % mae)\n",
    "r2 = r2_score(y_test, yhat)\n",
    "print('R2 Score: %.3f' % r2)"
   ]
  },
  {
   "cell_type": "markdown",
   "id": "26117aaf",
   "metadata": {},
   "source": [
    "### In LocalOutlierFactor() should I pass the scaled X_train or the original X_train?\n",
    "In most cases, it is recommended to pass the scaled X_train to the LocalOutlierFactor algorithm instead of the original X_train. The reason for this is that the LOF algorithm is based on distance measures, and the scale of the features can have a significant impact on the algorithm's performance."
   ]
  },
  {
   "cell_type": "markdown",
   "id": "feeef8dc",
   "metadata": {},
   "source": [
    "# After Isolation Forest"
   ]
  },
  {
   "cell_type": "code",
   "execution_count": 7,
   "id": "d6202dc2",
   "metadata": {},
   "outputs": [
    {
     "name": "stdout",
     "output_type": "stream",
     "text": [
      "(339, 13) (339,)\n",
      "(305, 13) (305,)\n",
      "MAE: 3.271\n",
      "R2 Score: 0.777\n"
     ]
    }
   ],
   "source": [
    "from sklearn.ensemble import IsolationForest\n",
    "contamination = 0.1\n",
    "isof = IsolationForest(contamination=contamination)\n",
    "outlier_labels = isof.fit_predict(X_train_scaled)\n",
    "mask = (outlier_labels != -1)\n",
    "print(X_train.shape, y_train.shape)\n",
    "X_train_reduced, y_train_redcued = X_train_scaled[mask, :], y_train[mask]\n",
    "print(X_train_reduced.shape, y_train_redcued.shape)\n",
    "\n",
    "model = LinearRegression()\n",
    "model.fit(X_train_reduced, y_train_redcued)\n",
    "\n",
    "yhat = model.predict(X_test_scaled)\n",
    "mae = mean_absolute_error(y_test, yhat)\n",
    "print('MAE: %.3f' % mae)\n",
    "r2 = r2_score(y_test, yhat)\n",
    "print('R2 Score: %.3f' % r2)"
   ]
  },
  {
   "cell_type": "markdown",
   "id": "290e7710",
   "metadata": {},
   "source": [
    "# After one class SVM"
   ]
  },
  {
   "cell_type": "code",
   "execution_count": 8,
   "id": "0219f2f8",
   "metadata": {},
   "outputs": [
    {
     "name": "stdout",
     "output_type": "stream",
     "text": [
      "(339, 13) (339,)\n",
      "(315, 13) (315,)\n",
      "MAE: 3.291\n",
      "R2 Score: 0.774\n"
     ]
    }
   ],
   "source": [
    "from sklearn.svm import OneClassSVM\n",
    "\n",
    "nu = 0.05\n",
    "clf = OneClassSVM(nu=nu)\n",
    "\n",
    "outlier_labels = clf.fit_predict(X_train_scaled)\n",
    "mask = (outlier_labels != -1)\n",
    "print(X_train.shape, y_train.shape)\n",
    "X_train_reduced, y_train_redcued = X_train_scaled[mask, :], y_train[mask]\n",
    "print(X_train_reduced.shape, y_train_redcued.shape)\n",
    "\n",
    "model = LinearRegression()\n",
    "model.fit(X_train_reduced, y_train_redcued)\n",
    "\n",
    "yhat = model.predict(X_test_scaled)\n",
    "mae = mean_absolute_error(y_test, yhat)\n",
    "print('MAE: %.3f' % mae)\n",
    "r2 = r2_score(y_test, yhat)\n",
    "print('R2 Score: %.3f' % r2)"
   ]
  },
  {
   "cell_type": "code",
   "execution_count": null,
   "id": "a6004eb6",
   "metadata": {},
   "outputs": [],
   "source": []
  }
 ],
 "metadata": {
  "kernelspec": {
   "display_name": "Python 3 (ipykernel)",
   "language": "python",
   "name": "python3"
  },
  "language_info": {
   "codemirror_mode": {
    "name": "ipython",
    "version": 3
   },
   "file_extension": ".py",
   "mimetype": "text/x-python",
   "name": "python",
   "nbconvert_exporter": "python",
   "pygments_lexer": "ipython3",
   "version": "3.9.6"
  }
 },
 "nbformat": 4,
 "nbformat_minor": 5
}
